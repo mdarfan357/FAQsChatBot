{
 "cells": [
  {
   "cell_type": "code",
   "execution_count": 1,
   "id": "8848832d",
   "metadata": {
    "_cell_guid": "b1076dfc-b9ad-4769-8c92-a6c4dae69d19",
    "_uuid": "8f2839f25d086af736a60e9eeb907d3b93b6e0e5",
    "execution": {
     "iopub.execute_input": "2023-08-20T17:17:08.371554Z",
     "iopub.status.busy": "2023-08-20T17:17:08.371119Z",
     "iopub.status.idle": "2023-08-20T17:17:08.392840Z",
     "shell.execute_reply": "2023-08-20T17:17:08.391335Z"
    },
    "papermill": {
     "duration": 0.033026,
     "end_time": "2023-08-20T17:17:08.396782",
     "exception": false,
     "start_time": "2023-08-20T17:17:08.363756",
     "status": "completed"
    },
    "tags": []
   },
   "outputs": [
    {
     "name": "stdout",
     "output_type": "stream",
     "text": [
      "/kaggle/input/mental-health-faq-for-chatbot/Mental_Health_FAQ.csv\n"
     ]
    }
   ],
   "source": [
    "# This Python 3 environment comes with many helpful analytics libraries installed\n",
    "# It is defined by the kaggle/python Docker image: https://github.com/kaggle/docker-python\n",
    "# For example, here's several helpful packages to load\n",
    "\n",
    "import numpy as np # linear algebra\n",
    "import pandas as pd # data processing, CSV file I/O (e.g. pd.read_csv)\n",
    "\n",
    "# Input data files are available in the read-only \"../input/\" directory\n",
    "# For example, running this (by clicking run or pressing Shift+Enter) will list all files under the input directory\n",
    "\n",
    "import os\n",
    "for dirname, _, filenames in os.walk('/kaggle/input'):\n",
    "    for filename in filenames:\n",
    "        print(os.path.join(dirname, filename))\n",
    "\n",
    "# You can write up to 20GB to the current directory (/kaggle/working/) that gets preserved as output when you create a version using \"Save & Run All\" \n",
    "# You can also write temporary files to /kaggle/temp/, but they won't be saved outside of the current session"
   ]
  },
  {
   "cell_type": "code",
   "execution_count": 2,
   "id": "c34bc94d",
   "metadata": {
    "execution": {
     "iopub.execute_input": "2023-08-20T17:17:08.408872Z",
     "iopub.status.busy": "2023-08-20T17:17:08.408422Z",
     "iopub.status.idle": "2023-08-20T17:17:08.460077Z",
     "shell.execute_reply": "2023-08-20T17:17:08.458954Z"
    },
    "papermill": {
     "duration": 0.060677,
     "end_time": "2023-08-20T17:17:08.462798",
     "exception": false,
     "start_time": "2023-08-20T17:17:08.402121",
     "status": "completed"
    },
    "tags": []
   },
   "outputs": [
    {
     "data": {
      "text/html": [
       "<div>\n",
       "<style scoped>\n",
       "    .dataframe tbody tr th:only-of-type {\n",
       "        vertical-align: middle;\n",
       "    }\n",
       "\n",
       "    .dataframe tbody tr th {\n",
       "        vertical-align: top;\n",
       "    }\n",
       "\n",
       "    .dataframe thead th {\n",
       "        text-align: right;\n",
       "    }\n",
       "</style>\n",
       "<table border=\"1\" class=\"dataframe\">\n",
       "  <thead>\n",
       "    <tr style=\"text-align: right;\">\n",
       "      <th></th>\n",
       "      <th>Question_ID</th>\n",
       "      <th>Questions</th>\n",
       "      <th>Answers</th>\n",
       "    </tr>\n",
       "  </thead>\n",
       "  <tbody>\n",
       "    <tr>\n",
       "      <th>0</th>\n",
       "      <td>1590140</td>\n",
       "      <td>What does it mean to have a mental illness?</td>\n",
       "      <td>Mental illnesses are health conditions that di...</td>\n",
       "    </tr>\n",
       "    <tr>\n",
       "      <th>1</th>\n",
       "      <td>2110618</td>\n",
       "      <td>Who does mental illness affect?</td>\n",
       "      <td>It is estimated that mental illness affects 1 ...</td>\n",
       "    </tr>\n",
       "    <tr>\n",
       "      <th>2</th>\n",
       "      <td>6361820</td>\n",
       "      <td>What causes mental illness?</td>\n",
       "      <td>It is estimated that mental illness affects 1 ...</td>\n",
       "    </tr>\n",
       "    <tr>\n",
       "      <th>3</th>\n",
       "      <td>9434130</td>\n",
       "      <td>What are some of the warning signs of mental i...</td>\n",
       "      <td>Symptoms of mental health disorders vary depen...</td>\n",
       "    </tr>\n",
       "    <tr>\n",
       "      <th>4</th>\n",
       "      <td>7657263</td>\n",
       "      <td>Can people with mental illness recover?</td>\n",
       "      <td>When healing from mental illness, early identi...</td>\n",
       "    </tr>\n",
       "    <tr>\n",
       "      <th>...</th>\n",
       "      <td>...</td>\n",
       "      <td>...</td>\n",
       "      <td>...</td>\n",
       "    </tr>\n",
       "    <tr>\n",
       "      <th>93</th>\n",
       "      <td>4373204</td>\n",
       "      <td>How do I know if I'm drinking too much?</td>\n",
       "      <td>Sorting out if you are drinking too much can b...</td>\n",
       "    </tr>\n",
       "    <tr>\n",
       "      <th>94</th>\n",
       "      <td>7807643</td>\n",
       "      <td>If cannabis is dangerous, why are we legalizin...</td>\n",
       "      <td>Cannabis smoke, for example, contains cancer-c...</td>\n",
       "    </tr>\n",
       "    <tr>\n",
       "      <th>95</th>\n",
       "      <td>4352464</td>\n",
       "      <td>How can I convince my kids not to use drugs?</td>\n",
       "      <td>You can't. But you can influence their capacit...</td>\n",
       "    </tr>\n",
       "    <tr>\n",
       "      <th>96</th>\n",
       "      <td>6521784</td>\n",
       "      <td>What is the legal status (and evidence) of CBD...</td>\n",
       "      <td>Cannabidiol or CBD is a naturally occurring co...</td>\n",
       "    </tr>\n",
       "    <tr>\n",
       "      <th>97</th>\n",
       "      <td>3221856</td>\n",
       "      <td>What is the evidence on vaping?</td>\n",
       "      <td>\"Vaping\" is the term for using a device where ...</td>\n",
       "    </tr>\n",
       "  </tbody>\n",
       "</table>\n",
       "<p>98 rows × 3 columns</p>\n",
       "</div>"
      ],
      "text/plain": [
       "    Question_ID                                          Questions  \\\n",
       "0       1590140        What does it mean to have a mental illness?   \n",
       "1       2110618                    Who does mental illness affect?   \n",
       "2       6361820                        What causes mental illness?   \n",
       "3       9434130  What are some of the warning signs of mental i...   \n",
       "4       7657263            Can people with mental illness recover?   \n",
       "..          ...                                                ...   \n",
       "93      4373204            How do I know if I'm drinking too much?   \n",
       "94      7807643  If cannabis is dangerous, why are we legalizin...   \n",
       "95      4352464       How can I convince my kids not to use drugs?   \n",
       "96      6521784  What is the legal status (and evidence) of CBD...   \n",
       "97      3221856                    What is the evidence on vaping?   \n",
       "\n",
       "                                              Answers  \n",
       "0   Mental illnesses are health conditions that di...  \n",
       "1   It is estimated that mental illness affects 1 ...  \n",
       "2   It is estimated that mental illness affects 1 ...  \n",
       "3   Symptoms of mental health disorders vary depen...  \n",
       "4   When healing from mental illness, early identi...  \n",
       "..                                                ...  \n",
       "93  Sorting out if you are drinking too much can b...  \n",
       "94  Cannabis smoke, for example, contains cancer-c...  \n",
       "95  You can't. But you can influence their capacit...  \n",
       "96  Cannabidiol or CBD is a naturally occurring co...  \n",
       "97  \"Vaping\" is the term for using a device where ...  \n",
       "\n",
       "[98 rows x 3 columns]"
      ]
     },
     "execution_count": 2,
     "metadata": {},
     "output_type": "execute_result"
    }
   ],
   "source": [
    "import pandas as pd\n",
    "import numpy\n",
    "df = pd.read_csv('/kaggle/input/mental-health-faq-for-chatbot/Mental_Health_FAQ.csv')\n",
    "df"
   ]
  },
  {
   "cell_type": "code",
   "execution_count": 3,
   "id": "5011dac3",
   "metadata": {
    "execution": {
     "iopub.execute_input": "2023-08-20T17:17:08.475488Z",
     "iopub.status.busy": "2023-08-20T17:17:08.474176Z",
     "iopub.status.idle": "2023-08-20T17:17:09.922285Z",
     "shell.execute_reply": "2023-08-20T17:17:09.920942Z"
    },
    "papermill": {
     "duration": 1.457715,
     "end_time": "2023-08-20T17:17:09.925530",
     "exception": false,
     "start_time": "2023-08-20T17:17:08.467815",
     "status": "completed"
    },
    "tags": []
   },
   "outputs": [
    {
     "name": "stdout",
     "output_type": "stream",
     "text": [
      "['mean mental illness', 'mental illness affect', 'causes mental illness', 'warning signs mental illness', 'people mental illness recover', 'know appears symptoms mental disorder', 'mental health professional child', 'treatment options available', 'involved treatment need know', 'difference mental health professionals', 'mental health professional right child', 'involved treatment need know', 'help', 'know starting new medication', 'feel better taking medication mean cured stop taking', 'help paying medication', 'therapy', 'learn types mental health treatment', 'different types mental health professionals', 'support group', 'inpatient care', 'local services', 'learn information clinical trials', 'learn information creating psychiatric advance directive', 'mental health', 'support doesnt help', 'prevent mental health problems', 'cures mental health problems', 'causes mental health problems', 'im worried mental health', 'know im unwell', 'im worried friend relative', 'deal telling', 'need informed', 'tell health information good bad', 'need plan', 'maintain social connections feel lonely', 'care physical health', 'use distraction manage difficult thoughts feelings', 'reframe situation balanced perspectives', 'challenge thinking traps', 'manage grief', 'doctor psychiatrist psychologist counsellor', 'psychiatrist', 'psychologist', 'counsellor', 'support group', 'child youth mental health services', 'older adults help mental health concerns', 'selfhelp materials depression', 'selfhelp materials anxiety', 'im having hard time coping physical health problem help', 'substance use problem help', 'free lowcost counselling', 'help paying prescription medications', 'pay mental health care', 'apply income assistance', 'msp', 'referral', 'whats difference psychiatrist registered psychologist', 'whats difference psychotherapy counselling', 'whats difference cbt dbt', 'whats difference antidepressants', 'received diagnosis dont think right', 'prescribed antidepressant psychiatric medication dont think working', 'adult life ill wont help', 'im worried child teenager help', 'care brain injury information', 'love diagnosed depression help', 'love diagnosed schizophrenia help', 'im young person parents mental illness', 'thoughts suicide care talking suicide', 'cannabis legally allowed 19 doctor groups saying potentially harmful age 25 use certain use whats myth whats fact im parent tell young adult', 'whats difference mental health mental illness', 'information depression', 'whats difference anxiety anxiety disorder', 'whats difference anxiety stress', 'whats difference sadness depression', 'dysthymia persistent depressive disorder', 'cyclothymic disorder', 'rapid cycling mean', 'information help borderline personality disorder', 'schizoid personality disorder', 'antisocial personality disorder', 'obsessivecompulsive personality disorder', 'bingeeating disorder', 'whats difference dissociative identity disorder multiple personality disorder schizophrenia', 'whats difference psychosis schizophrenia', 'positive negative symptoms', 'prodrome', 'im adult think adhd', 'whats difference substance use addiction', 'help alcohol drug use problem', 'know im drinking', 'cannabis dangerous legalizing', 'convince kids use drugs', 'legal status evidence cbd oil', 'evidence vaping']\n",
      "\n",
      "\n",
      "['what does it mean to have a mental illness', 'who does mental illness affect', 'what causes mental illness', 'what are some of the warning signs of mental illness', 'can people with mental illness recover', 'what should i do if i know someone who appears to have the symptoms of a mental disorder', 'how can i find a mental health professional for myself or my child', 'what treatment options are available', 'if i become involved in treatment what do i need to know', 'what is the difference between mental health professionals', 'how can i find a mental health professional right for my child or myself', 'if i become involved in treatment what do i need to know', 'where else can i get help', 'what should i know before starting a new medication', 'if i feel better after taking medication does this mean i am cured and can stop taking it', 'how can i get help paying for my medication', 'where can i go to find therapy', 'where can i learn about types of mental health treatment', 'what are the different types of mental health professionals', 'where can i go to find a support group', 'where can i go to find inpatient care', 'where can i go to find other local services', 'where can i learn more information about clinical trials', 'where can i learn more information about creating a psychiatric advance directive', 'what is mental health', 'what do i do if the support doesnt help', 'can you prevent mental health problems', 'are there cures for mental health problems', 'what causes mental health problems', 'what do i do if im worried about my mental health', 'how do i know if im unwell', 'what should i do if im worried about a friend or relative', 'how do i deal with someone telling me what to do', 'why do i need to keep informed', 'how can i tell if health information is good or bad', 'why do i need a plan', 'how can i maintain social connections what if i feel lonely', 'how can i take care of my physical health', 'how can i use distraction to manage difficult thoughts or feelings', 'how can i reframe the situation and find more balanced perspectives', 'how can i challenge thinking traps', 'how can i manage grief', 'how can i find a doctor psychiatrist psychologist or counsellor', 'how can i see a psychiatrist', 'how can i see a psychologist', 'how can i see a counsellor', 'how can i find a support group', 'where can i find child and youth mental health services', 'where can older adults find help for mental health concerns', 'where can i find selfhelp materials for depression', 'where can i find selfhelp materials for anxiety', 'im having a hard time coping with a physical health problem where can i find help', 'when is substance use a problem where can i go for help', 'where can i find free or lowcost counselling', 'can i get help paying for prescription medications', 'how can i pay for mental health care', 'how do i apply for income assistance', 'what is msp', 'what is a referral', 'whats the difference between a psychiatrist and a registered psychologist', 'whats the difference between psychotherapy and counselling', 'whats the difference between cbt and dbt', 'whats the difference between antidepressants', 'i received a diagnosis but i dont think its right what can i do', 'i was prescribed an antidepressant or other psychiatric medication but i dont think its working what can i do', 'an adult in my life seems ill and wont find help what can i do', 'im worried about my child or teenager where can i find help', 'someone i care about has a brain injury where can i find more information', 'someone i love has been diagnosed with depression how can i help', 'someone i love has been diagnosed with schizophrenia how can i help', 'im a young person and one of my parents has a mental illness what can i do', 'i have thoughts of suicide or someone i care about is talking about suicide what should i do', 'cannabis is legally allowed to 19 but there are doctor groups saying its potentially harmful to age 25 any use or certain use whats myth and whats fact if im a parent what should i tell my young adult', 'whats the difference between mental health and mental illness', 'where can i find more information about depression', 'whats the difference between anxiety and an anxiety disorder', 'whats the difference between anxiety and stress', 'whats the difference between sadness and depression', 'what is dysthymia or persistent depressive disorder', 'what is cyclothymic disorder', 'what does rapid cycling mean', 'where can i find information and help for borderline personality disorder', 'what is schizoid personality disorder', 'what is antisocial personality disorder', 'what is obsessivecompulsive personality disorder', 'what is bingeeating disorder', 'whats the difference between dissociative identity disorder multiple personality disorder and schizophrenia', 'whats the difference between psychosis and schizophrenia', 'what are positive and negative symptoms', 'what is a prodrome', 'im an adult and i think i might have adhd what can i do next', 'whats the difference between substance use and addiction', 'how can i find help for an alcohol or drug use problem', 'how do i know if im drinking too much', 'if cannabis is dangerous why are we legalizing it', 'how can i convince my kids not to use drugs', 'what is the legal status and evidence of cbd oil', 'what is the evidence on vaping']\n"
     ]
    }
   ],
   "source": [
    "# preprocessing \n",
    "\n",
    "import re\n",
    "import gensim\n",
    "from gensim.parsing.preprocessing import remove_stopwords\n",
    "\n",
    "def clean_sentence(sentence,stopwords=False):\n",
    "    sentence = sentence.lower().strip()\n",
    "    sentence = re.sub(r'[^a-z0-9\\s]','',sentence)\n",
    "    if stopwords:\n",
    "        sentence = remove_stopwords(sentence)\n",
    "    return sentence\n",
    "\n",
    "\n",
    "def get_cleaned_sentences(df,stopwords=False):\n",
    "    sents = df[['Questions']];\n",
    "    cleaned_sentences = []\n",
    "    \n",
    "    for index,row in df.iterrows():\n",
    "        cleaned = clean_sentence(row['Questions'],stopwords);\n",
    "        cleaned_sentences.append(cleaned);\n",
    "    return cleaned_sentences\n",
    "\n",
    "\n",
    "clean_sentences = get_cleaned_sentences(df,stopwords=True)\n",
    "print(clean_sentences)    \n",
    "print('\\n')\n",
    "clean_sentences_noStopWords = get_cleaned_sentences(df,stopwords=False)\n",
    "print(clean_sentences_noStopWords)    "
   ]
  },
  {
   "cell_type": "code",
   "execution_count": 4,
   "id": "da9c077d",
   "metadata": {
    "execution": {
     "iopub.execute_input": "2023-08-20T17:17:09.937986Z",
     "iopub.status.busy": "2023-08-20T17:17:09.937518Z",
     "iopub.status.idle": "2023-08-20T17:23:38.992449Z",
     "shell.execute_reply": "2023-08-20T17:23:38.991036Z"
    },
    "papermill": {
     "duration": 389.065033,
     "end_time": "2023-08-20T17:23:38.995882",
     "exception": false,
     "start_time": "2023-08-20T17:17:09.930849",
     "status": "completed"
    },
    "tags": []
   },
   "outputs": [
    {
     "name": "stdout",
     "output_type": "stream",
     "text": [
      "[=================================================-] 99.9% 1660.8/1662.8MB downloaded\n",
      "Saved w2v model\n"
     ]
    }
   ],
   "source": [
    "# Word2Vec\n",
    "\n",
    "from gensim.models import Word2Vec\n",
    "import gensim.downloader as api\n",
    "\n",
    "w2v_model = None\n",
    "try :\n",
    "    w2v_model = gensim.models.KeyedVectors.load('./w2vecmodel.mod')\n",
    "    print(\"Loaded w2v model\")\n",
    "except:\n",
    "    w2v_model = api.load('word2vec-google-news-300')\n",
    "    w2v_model.save(\"./w2vecmodel.mod\")\n",
    "    print(\"Saved w2v model\")\n",
    "    \n",
    "w2vec_emvedding_size = len(w2v_model['computer'])"
   ]
  },
  {
   "cell_type": "code",
   "execution_count": 5,
   "id": "6d9d45f8",
   "metadata": {
    "execution": {
     "iopub.execute_input": "2023-08-20T17:24:17.192190Z",
     "iopub.status.busy": "2023-08-20T17:24:17.190447Z",
     "iopub.status.idle": "2023-08-20T17:24:17.632404Z",
     "shell.execute_reply": "2023-08-20T17:24:17.631086Z"
    },
    "papermill": {
     "duration": 17.37216,
     "end_time": "2023-08-20T17:24:17.635895",
     "exception": false,
     "start_time": "2023-08-20T17:24:00.263735",
     "status": "completed"
    },
    "tags": []
   },
   "outputs": [],
   "source": [
    "import sklearn\n",
    "from sklearn.metrics.pairwise import cosine_similarity\n",
    "confidence = 0.75\n",
    "def getWordVec(word,model):\n",
    "    samp=model[\"computer\"]\n",
    "    vec = [0]*len(samp)\n",
    "    try: \n",
    "        vec = model[word]\n",
    "    except:\n",
    "        vec = [0]*len(samp)\n",
    "    return (vec)\n",
    "\n",
    "def getPharseEmbedding(phrase,model):\n",
    "    samp = getWordVec('computer',model)\n",
    "    vec = numpy.array([0] * len(samp))\n",
    "    for word in phrase.split():\n",
    "        vec = vec + numpy.array(getWordVec(word,model))\n",
    "        \n",
    "    return vec.reshape(1,-1)\n",
    "\n",
    "\n",
    "def retrieveAndPrintFAQ(question_embed,sentence_embed,FAQdf,sentences):\n",
    "    max_sim = -1\n",
    "    index_sim = -1\n",
    "    for index,faq_embed in enumerate(sentence_embed):\n",
    "        sim = cosine_similarity(faq_embed,question_embed)[0][0]\n",
    "        if index < 4 :\n",
    "            print(sim,FAQdf.iloc[index,1])\n",
    "        if (sim > max_sim) and (sim > confidence):\n",
    "            max_sim = sim\n",
    "            index_sim = index\n",
    "    print(\"\\n\")\n",
    "    print(\"Question : \",question)\n",
    "    print(\"\\n\")\n",
    "    if index_sim != -1:\n",
    "        print(\"Retrieved : \",FAQdf.iloc[index_sim,1])\n",
    "        print(\"\\n\")\n",
    "        print(\"Answer : \",FAQdf.iloc[index_sim,2])\n",
    "    else:\n",
    "        print(\"No match found\")"
   ]
  },
  {
   "cell_type": "code",
   "execution_count": 6,
   "id": "a5e157cd",
   "metadata": {
    "execution": {
     "iopub.execute_input": "2023-08-20T17:24:50.440547Z",
     "iopub.status.busy": "2023-08-20T17:24:50.440106Z",
     "iopub.status.idle": "2023-08-20T17:24:50.445843Z",
     "shell.execute_reply": "2023-08-20T17:24:50.444498Z"
    },
    "papermill": {
     "duration": 16.317216,
     "end_time": "2023-08-20T17:24:50.448708",
     "exception": false,
     "start_time": "2023-08-20T17:24:34.131492",
     "status": "completed"
    },
    "tags": []
   },
   "outputs": [],
   "source": [
    "question = \"what's the definition of mental illness\"\n",
    "# question = \"what's what what what\"\n",
    "# question = \"What does it mean to not have mental illness?\"\n",
    "# question = \"causes of mental illness\""
   ]
  },
  {
   "cell_type": "code",
   "execution_count": 7,
   "id": "de29d2fa",
   "metadata": {
    "execution": {
     "iopub.execute_input": "2023-08-20T17:25:23.325975Z",
     "iopub.status.busy": "2023-08-20T17:25:23.325184Z",
     "iopub.status.idle": "2023-08-20T17:25:23.378216Z",
     "shell.execute_reply": "2023-08-20T17:25:23.377038Z"
    },
    "papermill": {
     "duration": 16.514559,
     "end_time": "2023-08-20T17:25:23.381311",
     "exception": false,
     "start_time": "2023-08-20T17:25:06.866752",
     "status": "completed"
    },
    "tags": []
   },
   "outputs": [
    {
     "name": "stdout",
     "output_type": "stream",
     "text": [
      "0.7899959246133863 What does it mean to have a mental illness?\n",
      "0.7203173546671922 Who does mental illness affect?\n",
      "0.7416810059308135 What causes mental illness?\n",
      "0.6227148624595191 What are some of the warning signs of mental illness?\n",
      "\n",
      "\n",
      "Question :  what's the definition of mental illness\n",
      "\n",
      "\n",
      "Retrieved :  What does it mean to have a mental illness?\n",
      "\n",
      "\n",
      "Answer :  Mental illnesses are health conditions that disrupt a personâ€™s thoughts, emotions, relationships, and daily functioning. They are associated with distress and diminished capacity to engage in the ordinary activities of daily life.\n",
      "Mental illnesses fall along a continuum of severity: some are fairly mild and only interfere with some aspects of life, such as certain phobias. On the other end of the spectrum lie serious mental illnesses, which result in major functional impairment and interference with daily life. These include such disorders as major depression, schizophrenia, and bipolar disorder, and may require that the person receives care in a hospital.\n",
      "It is important to know that mental illnesses are medical conditions that have nothing to do with a personâ€™s character, intelligence, or willpower. Just as diabetes is a disorder of the pancreas, mental illness is a medical condition due to the brainâ€™s biology.\n",
      "Similarly to how one would treat diabetes with medication and insulin, mental illness is treatable with a combination of medication and social support. These treatments are highly effective, with 70-90 percent of individuals receiving treatment experiencing a reduction in symptoms and an improved quality of life. With the proper treatment, it is very possible for a person with mental illness to be independent and successful.\n"
     ]
    }
   ],
   "source": [
    "sent_embeddings = []\n",
    "for sent in clean_sentences:\n",
    "    sent_embeddings.append(getPharseEmbedding(sent,w2v_model))\n",
    "\n",
    "question_embedding = getPharseEmbedding(question,w2v_model)\n",
    "retrieveAndPrintFAQ(question_embedding,sent_embeddings,df,clean_sentences)"
   ]
  },
  {
   "cell_type": "code",
   "execution_count": 8,
   "id": "892143ac",
   "metadata": {
    "execution": {
     "iopub.execute_input": "2023-08-20T17:25:56.003525Z",
     "iopub.status.busy": "2023-08-20T17:25:56.003066Z",
     "iopub.status.idle": "2023-08-20T17:25:56.008640Z",
     "shell.execute_reply": "2023-08-20T17:25:56.007329Z"
    },
    "papermill": {
     "duration": 16.137704,
     "end_time": "2023-08-20T17:25:56.011624",
     "exception": false,
     "start_time": "2023-08-20T17:25:39.873920",
     "status": "completed"
    },
    "tags": []
   },
   "outputs": [],
   "source": [
    "# https://huggingface.co/AnnaWegmann/Style-Embedding"
   ]
  },
  {
   "cell_type": "code",
   "execution_count": null,
   "id": "56bb4254",
   "metadata": {
    "execution": {
     "iopub.status.busy": "2023-03-26T16:50:53.881255Z",
     "iopub.status.idle": "2023-03-26T16:50:53.881872Z",
     "shell.execute_reply": "2023-03-26T16:50:53.881664Z",
     "shell.execute_reply.started": "2023-03-26T16:50:53.881636Z"
    },
    "papermill": {
     "duration": 16.223501,
     "end_time": "2023-08-20T17:26:28.689392",
     "exception": false,
     "start_time": "2023-08-20T17:26:12.465891",
     "status": "completed"
    },
    "tags": []
   },
   "outputs": [],
   "source": []
  }
 ],
 "metadata": {
  "kernelspec": {
   "display_name": "Python 3",
   "language": "python",
   "name": "python3"
  },
  "language_info": {
   "codemirror_mode": {
    "name": "ipython",
    "version": 3
   },
   "file_extension": ".py",
   "mimetype": "text/x-python",
   "name": "python",
   "nbconvert_exporter": "python",
   "pygments_lexer": "ipython3",
   "version": "3.7.12"
  },
  "papermill": {
   "default_parameters": {},
   "duration": 592.806217,
   "end_time": "2023-08-20T17:26:46.375387",
   "environment_variables": {},
   "exception": null,
   "input_path": "__notebook__.ipynb",
   "output_path": "__notebook__.ipynb",
   "parameters": {},
   "start_time": "2023-08-20T17:16:53.569170",
   "version": "2.4.0"
  }
 },
 "nbformat": 4,
 "nbformat_minor": 5
}
